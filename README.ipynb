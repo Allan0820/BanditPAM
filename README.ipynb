{
 "cells": [
  {
   "cell_type": "markdown",
   "metadata": {},
   "source": [
    "# BanditPAM: Almost Linear-Time k-Medoids Clustering"
   ]
  },
  {
   "cell_type": "markdown",
   "metadata": {},
   "source": [
    "This repo contains a high-performance implementation of BanditPAM from https://arxiv.org/abs/2006.06856. The code can be called directly from Python or C++.\n",
    "\n",
    "If you use this software, please cite:\n",
    "\n",
    "Mo Tiwari, Martin Jinye Zhang, James Mayclin, Sebastian Thrun, Chris Piech, Ilan Shomorony. \"Bandit-PAM: Almost Linear Time k-medoids Clustering via Multi-Armed Bandits\" Advances in Neural Information Processing Systems (NeurIPS) 2020."
   ]
  },
  {
   "cell_type": "code",
   "execution_count": null,
   "metadata": {},
   "outputs": [],
   "source": [
    "@inproceedings{BanditPAM,\n",
    "  title={Bandit-PAM: Almost Linear Time k-medoids Clustering via Multi-Armed Bandits},\n",
    "  author={Tiwari, Mo and Zhang, Martin J and Mayclin, James and Thrun, Sebastian and Piech, Chris and Shomorony, Ilan},\n",
    "  booktitle={Advances in Neural Information Processing Systems},\n",
    "  pages={368--374}, #TODO: Fix this\n",
    "  year={2020}\n",
    "}"
   ]
  },
  {
   "cell_type": "markdown",
   "metadata": {},
   "source": [
    "# Python Quickstart"
   ]
  },
  {
   "cell_type": "markdown",
   "metadata": {},
   "source": [
    "## Install the repo and its dependencies:"
   ]
  },
  {
   "cell_type": "code",
   "execution_count": null,
   "metadata": {},
   "outputs": [],
   "source": [
    "/BanditPAM/: pip install -r requirements.txt\n",
    "/BanditPAM/: sudo pip install ."
   ]
  },
  {
   "cell_type": "markdown",
   "metadata": {},
   "source": [
    "### Example 1: Synthetic data from a Gaussian Mixture Model"
   ]
  },
  {
   "cell_type": "code",
   "execution_count": 126,
   "metadata": {},
   "outputs": [
    {
     "data": {
      "image/png": "[encoded data removed]",
      "text/plain": [
       "<Figure size 432x288 with 1 Axes>"
      ]
     },
     "metadata": {
      "needs_background": "light"
     },
     "output_type": "display_data"
    }
   ],
   "source": [
    "from BanditPAM import KMedoids\n",
    "import numpy as np\n",
    "import matplotlib.pyplot as plt\n",
    "\n",
    "# Generate data from a Gaussian Mixture Model with the given means:\n",
    "np.random.seed(0)\n",
    "n_per_cluster = 40\n",
    "means = np.array([[0,0], [-5,5], [5,5]])\n",
    "X = np.vstack([np.random.randn(n_per_cluster, 2) + mu for mu in means])\n",
    "\n",
    "# Fit the data with BanditPAM:\n",
    "kmed = KMedoids(n_medoids = 3, algorithm = \"BanditPAM\")\n",
    "kmed.fit(X, 'L2')\n",
    "\n",
    "# Visualize the data and the medoids:\n",
    "for p_idx, point in enumerate(X):\n",
    "    if p_idx in map(int, kmed.final_medoids):\n",
    "        plt.scatter(X[p_idx, 0], X[p_idx, 1], color='red', s = 40)\n",
    "    else:\n",
    "        plt.scatter(X[p_idx, 0], X[p_idx, 1], color='blue', s = 10)\n",
    "plt.show()"
   ]
  },
  {
   "cell_type": "markdown",
   "metadata": {},
   "source": [
    "### Example 2: MNIST and its medoids visualized via t-SNE"
   ]
  },
  {
   "cell_type": "code",
   "execution_count": null,
   "metadata": {},
   "outputs": [],
   "source": [
    "from BanditPAM import KMedoids\n",
    "import numpy as np\n",
    "import pandas as pd\n",
    "import matplotlib.pyplot as plt\n",
    "from sklearn.manifold import TSNE\n",
    "\n",
    "# Load the 1000-point subset of MNIST and calculate its t-SNE embeddings for visualization:\n",
    "X = pd.read_csv('data/MNIST-1k.csv', sep=' ', header=None).to_numpy()\n",
    "X_tsne = TSNE(n_components = 2).fit_transform(X)\n",
    "\n",
    "# Fit the data with BanditPAM:\n",
    "kmed = KMedoids(n_medoids = 10, algorithm = \"BanditPAM\")\n",
    "kmed.fit(X, 'L2')\n",
    "\n",
    "# Visualize the data and the medoids via t-SNE:\n",
    "for p_idx, point in enumerate(X):\n",
    "    if p_idx in map(int, kmed.final_medoids):\n",
    "        plt.scatter(X_tsne[p_idx, 0], X_tsne[p_idx, 1], color='red', s = 40)\n",
    "    else:\n",
    "        plt.scatter(X_tsne[p_idx, 0], X_tsne[p_idx, 1], color='blue', s = 5)\n",
    "plt.show()"
   ]
  },
  {
   "cell_type": "markdown",
   "metadata": {},
   "source": [
    "## Building the C++ executable from source\n",
    "\n",
    "Please note that it is not necessary to build the C++ executable from source to use the Python code above. However, if you would like to use the C++ executable directly, follow the instructions below.\n",
    "\n",
    "### Option 1: Building with Docker\n",
    "\n",
    "We highly recommend building using Docker. Once you have Docker installed and the Docker Daemon is running, run the following commands:\n",
    "\n",
    "```\n",
    "/BanditPAM$ chmod +x env_setup.sh\n",
    "/BanditPAM$ ./env_setup.sh\n",
    "/BanditPAM$ ./run_docker.sh\n",
    "```\n",
    "\n",
    "which will start a Docker instance with the necessary dependencies. Then:\n",
    "\n",
    "```\n",
    "/BanditPAM$ mkdir build && cd build\n",
    "/BanditPAM/build$ cmake .. && make\n",
    "```\n",
    "\n",
    "This will create an executable named `BanditPAM` in `BanditPAM/build/src`.\n",
    "\n",
    "### Option 2: Installing Requirements and Building Directly\n",
    "Building this repository requires three external requirements:\n",
    "* Cmake >= 3.17\n",
    "* Armadillo >= 9.7, http://arma.sourceforge.net/download.html\n",
    "* OpenMP >= 2.5, https://www.openmp.org/resources/openmp-compilers-tools/ (OpenMP is supported by default on most Linux platforms, and can be downloaded through homebrew on macs.)\n",
    "* CARMA >= 0.3.0, https://github.com/RUrlus/carma\n",
    "\n",
    "Ensure all the requirements above are installed and then run:\n",
    "\n",
    "```\n",
    "/BanditPAM$ mkdir build && cd build\n",
    "/BanditPAM/build$ cmake .. && make\n",
    "```\n",
    "\n",
    "This will create an executable named `BanditPAM` in `BanditPAM/build/src`."
   ]
  },
  {
   "cell_type": "markdown",
   "metadata": {},
   "source": [
    "## Usage\n",
    "\n",
    "Once the executable has been built, it can be invoked with: \n",
    "```\n",
    "/BanditPAM/build/src/BanditPAM -f [path/to/input.csv] -k [number of clusters] -v [verbosity level]\n",
    "```\n",
    "\n",
    "* `-f` is mandatory and specifies the path to the dataset\n",
    "* `-k` is mandatory and specifies the number of clusters with which to fit the data\n",
    "* `-v` is optional and specifies the verbosity level.\n",
    "\n",
    "For example, if you ran `./env_setup.sh` and downloaded the MNIST dataset, you could run:\n",
    "\n",
    "```\n",
    "/BanditPAM/build/src/BanditPAM -f ../data/MNIST-1k.csv -k 10\n",
    "```"
   ]
  },
  {
   "cell_type": "markdown",
   "metadata": {},
   "source": [
    "## Questions, Concerns, Feedback?\n",
    "\n",
    "Please file an issue at https://github.com/jmayclin/BanditPAM/issues."
   ]
  }
 ],
 "metadata": {
  "kernelspec": {
   "display_name": "Python 3",
   "language": "python",
   "name": "python3"
  },
  "language_info": {
   "codemirror_mode": {
    "name": "ipython",
    "version": 3
   },
   "file_extension": ".py",
   "mimetype": "text/x-python",
   "name": "python",
   "nbconvert_exporter": "python",
   "pygments_lexer": "ipython3",
   "version": "3.6.3"
  }
 },
 "nbformat": 4,
 "nbformat_minor": 2
}
